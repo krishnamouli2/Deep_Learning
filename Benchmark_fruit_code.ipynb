{
 "cells": [
  {
   "cell_type": "code",
   "execution_count": 1,
   "metadata": {},
   "outputs": [
    {
     "name": "stderr",
     "output_type": "stream",
     "text": [
      "Matplotlib created a temporary config/cache directory at /tmp/matplotlib-e_zy3g2a because the default path (/home/ipuuser/.config/matplotlib) is not a writable directory; it is highly recommended to set the MPLCONFIGDIR environment variable to a writable directory, in particular to speed up the import of Matplotlib and to better support multiprocessing.\n"
     ]
    },
    {
     "name": "stdout",
     "output_type": "stream",
     "text": [
      "2.4.4\n"
     ]
    }
   ],
   "source": [
    "import tensorflow as tf\n",
    "import os                  # dealing with directories\n",
    "from tqdm import tqdm\n",
    "from tensorflow.python import ipu\n",
    "\n",
    "import numpy as np\n",
    "from tensorflow import keras\n",
    "from tensorflow.keras.models import Sequential\n",
    "from tensorflow.keras.layers import Dense, Activation, Dropout, Flatten, Conv2D, MaxPooling2D\n",
    "from tensorflow.keras.layers import BatchNormalization,ZeroPadding2D\n",
    "from tensorflow.keras.applications.resnet50 import ResNet50\n",
    "from tensorflow.python.keras.optimizer_v2.adam import Adam\n",
    "from tensorflow.python.keras.layers import Concatenate\n",
    "from pytictoc import TicToc\n",
    "print(tf.__version__)"
   ]
  },
  {
   "cell_type": "code",
   "execution_count": 1,
   "metadata": {},
   "outputs": [],
   "source": [
    "import gcipuinfo"
   ]
  },
  {
   "cell_type": "code",
   "execution_count": 5,
   "metadata": {},
   "outputs": [],
   "source": [
    "ipu_info = gcipuinfo.gcipuinfo()\n",
    "num_devices = len(ipu_info.getDevices())"
   ]
  },
  {
   "cell_type": "code",
   "execution_count": 6,
   "metadata": {},
   "outputs": [],
   "source": [
    "device_powers = ipu_info.getNamedAttributeForAll(gcipuinfo.TotalBoardPower)"
   ]
  },
  {
   "cell_type": "code",
   "execution_count": 8,
   "metadata": {},
   "outputs": [
    {
     "data": {
      "text/plain": [
       "gcipuinfo_py3.StringVector"
      ]
     },
     "execution_count": 8,
     "metadata": {},
     "output_type": "execute_result"
    }
   ],
   "source": [
    "device_powers."
   ]
  },
  {
   "cell_type": "code",
   "execution_count": 2,
   "metadata": {},
   "outputs": [],
   "source": [
    "num_ipus = 1\n",
    "t = TicToc() # create TicToc instance\n",
    "t.tic() # Start timer"
   ]
  },
  {
   "cell_type": "code",
   "execution_count": 3,
   "metadata": {},
   "outputs": [],
   "source": [
    "# Configure the IPU system\n",
    "ipu_config = ipu.config.IPUConfig()\n",
    "ipu_config.auto_select_ipus = num_ipus\n",
    "ipu_config.configure_ipu_system()"
   ]
  },
  {
   "cell_type": "code",
   "execution_count": 4,
   "metadata": {},
   "outputs": [],
   "source": [
    "path='train'"
   ]
  },
  {
   "cell_type": "code",
   "execution_count": 5,
   "metadata": {},
   "outputs": [],
   "source": [
    "# Create an execution strategy.\n",
    "strategy = ipu.ipu_strategy.IPUStrategy()"
   ]
  },
  {
   "cell_type": "code",
   "execution_count": 6,
   "metadata": {},
   "outputs": [],
   "source": [
    "labels=[]"
   ]
  },
  {
   "cell_type": "markdown",
   "metadata": {},
   "source": [
    "## Reading the Data"
   ]
  },
  {
   "cell_type": "code",
   "execution_count": 7,
   "metadata": {},
   "outputs": [],
   "source": [
    "def image_read(TRAIN_DIR):\n",
    "    training_data = []\n",
    "    for c in os.listdir(path):\n",
    "        for img in tqdm(os.listdir(os.path.join(path,c))):\n",
    "            img_path= os.path.join(path,c,img)\n",
    "            image=plt.imread(img_path)\n",
    "            if image is not None:\n",
    "                training_data.append(np.array(image))\n",
    "                labels.append(c)\n",
    "    return training_data, labels"
   ]
  },
  {
   "cell_type": "code",
   "execution_count": 8,
   "metadata": {},
   "outputs": [
    {
     "name": "stderr",
     "output_type": "stream",
     "text": [
      "100%|██████████| 459/459 [00:00<00:00, 3189.53it/s]\n",
      "100%|██████████| 377/377 [00:00<00:00, 3297.19it/s]\n",
      "100%|██████████| 367/367 [00:00<00:00, 3402.38it/s]\n",
      "100%|██████████| 492/492 [00:00<00:00, 3480.76it/s]\n",
      "100%|██████████| 735/735 [00:00<00:00, 3282.85it/s]\n",
      "100%|██████████| 478/478 [00:00<00:00, 3444.84it/s]\n"
     ]
    }
   ],
   "source": [
    "Fruit_data, labels=image_read(path)"
   ]
  },
  {
   "cell_type": "code",
   "execution_count": 9,
   "metadata": {},
   "outputs": [
    {
     "data": {
      "text/plain": [
       "(2908, 2908)"
      ]
     },
     "execution_count": 9,
     "metadata": {},
     "output_type": "execute_result"
    }
   ],
   "source": [
    "len(Fruit_data),len(labels)"
   ]
  },
  {
   "cell_type": "markdown",
   "metadata": {},
   "source": [
    "Converting the Fruit_data and labels object type to Numpy array"
   ]
  },
  {
   "cell_type": "code",
   "execution_count": 10,
   "metadata": {},
   "outputs": [],
   "source": [
    "Fruit_data,labels=np.array(Fruit_data),np.array(labels)"
   ]
  },
  {
   "cell_type": "code",
   "execution_count": 11,
   "metadata": {},
   "outputs": [
    {
     "name": "stdout",
     "output_type": "stream",
     "text": [
      "Class names from the dataset ['Tomato 3' 'Tomato 4' 'Tomato Cherry Red' 'Tomato Maroon' 'Tomato Yellow'\n",
      " 'Walnut']\n"
     ]
    }
   ],
   "source": [
    "print(\"Class names from the dataset {}\".format(np.unique(labels)))"
   ]
  },
  {
   "cell_type": "markdown",
   "metadata": {},
   "source": [
    "# Data Transformation"
   ]
  },
  {
   "cell_type": "code",
   "execution_count": 12,
   "metadata": {},
   "outputs": [],
   "source": [
    "from sklearn.preprocessing import LabelEncoder"
   ]
  },
  {
   "cell_type": "code",
   "execution_count": 13,
   "metadata": {},
   "outputs": [],
   "source": [
    "le=LabelEncoder()"
   ]
  },
  {
   "cell_type": "code",
   "execution_count": 14,
   "metadata": {},
   "outputs": [],
   "source": [
    "labels_encoded=le.fit_transform(labels)"
   ]
  },
  {
   "cell_type": "markdown",
   "metadata": {},
   "source": [
    "# Normilization of Image Data"
   ]
  },
  {
   "cell_type": "code",
   "execution_count": 15,
   "metadata": {},
   "outputs": [],
   "source": [
    "Norm_Fruit_data=Fruit_data/255"
   ]
  },
  {
   "cell_type": "markdown",
   "metadata": {},
   "source": [
    "# Train and Test split of Data"
   ]
  },
  {
   "cell_type": "code",
   "execution_count": 16,
   "metadata": {},
   "outputs": [],
   "source": [
    "import sklearn.model_selection as ms\n",
    "x_train,x_test,y_train,y_test=ms.train_test_split(Norm_Fruit_data,labels_encoded,test_size=0.3,random_state=121123451)"
   ]
  },
  {
   "cell_type": "code",
   "execution_count": 17,
   "metadata": {},
   "outputs": [
    {
     "data": {
      "text/plain": [
       "((2035, 100, 100, 3), (873, 100, 100, 3), (2035,), (873,))"
      ]
     },
     "execution_count": 17,
     "metadata": {},
     "output_type": "execute_result"
    }
   ],
   "source": [
    "x_train.shape,x_test.shape,y_train.shape,y_test.shape"
   ]
  },
  {
   "cell_type": "code",
   "execution_count": 18,
   "metadata": {},
   "outputs": [],
   "source": [
    "batch_size=5"
   ]
  },
  {
   "cell_type": "code",
   "execution_count": 19,
   "metadata": {},
   "outputs": [],
   "source": [
    "def make_divisible(number, divisor):\n",
    "    return number - number % divisor"
   ]
  },
  {
   "cell_type": "code",
   "execution_count": 20,
   "metadata": {},
   "outputs": [],
   "source": [
    "# Adjust dataset lengths to be divisible by the batch size\n",
    "train_data_len = x_train.shape[0]\n",
    "train_data_len = make_divisible(train_data_len, batch_size)\n",
    "x_train, y_train = x_train[:train_data_len], y_train[:train_data_len]\n",
    "\n",
    "test_data_len = x_test.shape[0]\n",
    "test_data_len = make_divisible(test_data_len, batch_size)\n",
    "x_test, y_test = x_test[:test_data_len], y_test[:test_data_len]"
   ]
  },
  {
   "cell_type": "code",
   "execution_count": 21,
   "metadata": {},
   "outputs": [
    {
     "name": "stdout",
     "output_type": "stream",
     "text": [
      "(2035, 100, 100, 3) (870, 100, 100, 3) (2035,) (870,)\n"
     ]
    }
   ],
   "source": [
    "print(x_train.shape,x_test.shape,y_train.shape,y_test.shape)"
   ]
  },
  {
   "cell_type": "code",
   "execution_count": 22,
   "metadata": {},
   "outputs": [],
   "source": [
    "input_shape = (100, 100, 3)\n",
    "num_classes=6"
   ]
  },
  {
   "cell_type": "markdown",
   "metadata": {},
   "source": [
    "# One Hot Encoding"
   ]
  },
  {
   "cell_type": "code",
   "execution_count": 23,
   "metadata": {},
   "outputs": [
    {
     "name": "stdout",
     "output_type": "stream",
     "text": [
      "The data loading and preprocessing took 48.540600 seconds.\n"
     ]
    }
   ],
   "source": [
    "from tensorflow.keras.utils import to_categorical\n",
    "y_train_onehot= to_categorical(y_train)\n",
    "y_test_onehot=to_categorical(y_test)\n",
    "t.toc('The data loading and preprocessing took')"
   ]
  },
  {
   "cell_type": "code",
   "execution_count": 24,
   "metadata": {},
   "outputs": [
    {
     "name": "stdout",
     "output_type": "stream",
     "text": [
      "INFO:tensorflow:The provided set of data has an unknown size. This can result in runtime errors if not enough data is provided during execution.\n",
      "Epoch 1/50\n",
      "100/100 [==============================] - 305s 3s/step - loss: 7.0225 - accuracy: 0.2322\n",
      "Epoch 2/50\n",
      "100/100 [==============================] - 2s 16ms/step - loss: 1.8724 - accuracy: 0.2750\n",
      "Epoch 3/50\n",
      "100/100 [==============================] - 1s 13ms/step - loss: 1.7857 - accuracy: 0.2289\n",
      "Epoch 4/50\n",
      "100/100 [==============================] - 1s 13ms/step - loss: 1.7796 - accuracy: 0.2599\n",
      "Epoch 5/50\n",
      "100/100 [==============================] - 1s 13ms/step - loss: 1.7849 - accuracy: 0.2140\n",
      "Epoch 6/50\n",
      "100/100 [==============================] - 1s 13ms/step - loss: 1.7705 - accuracy: 0.2939\n",
      "Epoch 7/50\n",
      "100/100 [==============================] - 1s 14ms/step - loss: 1.7731 - accuracy: 0.2502\n",
      "Epoch 8/50\n",
      "100/100 [==============================] - 1s 13ms/step - loss: 1.7671 - accuracy: 0.2590\n",
      "Epoch 9/50\n",
      "100/100 [==============================] - 1s 13ms/step - loss: 1.7731 - accuracy: 0.2410\n",
      "Epoch 10/50\n",
      "100/100 [==============================] - 1s 14ms/step - loss: 1.7629 - accuracy: 0.2619\n",
      "Epoch 11/50\n",
      "100/100 [==============================] - 1s 14ms/step - loss: 1.7565 - accuracy: 0.2778\n",
      "Epoch 12/50\n",
      "100/100 [==============================] - 1s 13ms/step - loss: 1.7509 - accuracy: 0.2969\n",
      "Epoch 13/50\n",
      "100/100 [==============================] - 1s 13ms/step - loss: 1.7764 - accuracy: 0.2451\n",
      "Epoch 14/50\n",
      "100/100 [==============================] - 1s 13ms/step - loss: 1.7627 - accuracy: 0.2530\n",
      "Epoch 15/50\n",
      "100/100 [==============================] - 1s 14ms/step - loss: 1.7643 - accuracy: 0.2590\n",
      "Epoch 16/50\n",
      "100/100 [==============================] - 1s 13ms/step - loss: 1.7589 - accuracy: 0.2609\n",
      "Epoch 17/50\n",
      "100/100 [==============================] - 1s 13ms/step - loss: 1.7689 - accuracy: 0.2381\n",
      "Epoch 18/50\n",
      "100/100 [==============================] - 1s 13ms/step - loss: 1.7618 - accuracy: 0.2659\n",
      "Epoch 19/50\n",
      "100/100 [==============================] - 1s 13ms/step - loss: 1.7493 - accuracy: 0.2789\n",
      "Epoch 20/50\n",
      "100/100 [==============================] - 1s 13ms/step - loss: 1.7536 - accuracy: 0.2630\n",
      "Epoch 21/50\n",
      "100/100 [==============================] - 1s 14ms/step - loss: 1.7787 - accuracy: 0.2410\n",
      "Epoch 22/50\n",
      "100/100 [==============================] - 1s 15ms/step - loss: 1.7646 - accuracy: 0.2611\n",
      "Epoch 23/50\n",
      "100/100 [==============================] - 1s 13ms/step - loss: 1.7590 - accuracy: 0.2601\n",
      "Epoch 24/50\n",
      "100/100 [==============================] - 1s 13ms/step - loss: 1.7616 - accuracy: 0.2390\n",
      "Epoch 25/50\n",
      "100/100 [==============================] - 1s 14ms/step - loss: 1.7725 - accuracy: 0.2299\n",
      "Epoch 26/50\n",
      "100/100 [==============================] - 1s 14ms/step - loss: 1.7571 - accuracy: 0.2680\n",
      "Epoch 27/50\n",
      "100/100 [==============================] - 1s 15ms/step - loss: 1.7537 - accuracy: 0.2849\n",
      "Epoch 28/50\n",
      "100/100 [==============================] - 1s 14ms/step - loss: 1.7680 - accuracy: 0.2441\n",
      "Epoch 29/50\n",
      "100/100 [==============================] - 1s 14ms/step - loss: 1.7571 - accuracy: 0.2541\n",
      "Epoch 30/50\n",
      "100/100 [==============================] - 1s 13ms/step - loss: 1.7462 - accuracy: 0.2569\n",
      "Epoch 31/50\n",
      "100/100 [==============================] - 1s 14ms/step - loss: 1.7698 - accuracy: 0.2482\n",
      "Epoch 32/50\n",
      "100/100 [==============================] - 1s 13ms/step - loss: 1.7606 - accuracy: 0.2600\n",
      "Epoch 33/50\n",
      "100/100 [==============================] - 1s 13ms/step - loss: 1.7641 - accuracy: 0.2530\n",
      "Epoch 34/50\n",
      "100/100 [==============================] - 1s 13ms/step - loss: 1.7546 - accuracy: 0.2651\n",
      "Epoch 35/50\n",
      "100/100 [==============================] - 1s 13ms/step - loss: 1.7563 - accuracy: 0.2710\n",
      "Epoch 36/50\n",
      "100/100 [==============================] - 1s 14ms/step - loss: 1.7732 - accuracy: 0.2301\n",
      "Epoch 37/50\n",
      "100/100 [==============================] - 1s 14ms/step - loss: 1.7779 - accuracy: 0.2210\n",
      "Epoch 38/50\n",
      "100/100 [==============================] - 1s 13ms/step - loss: 1.7602 - accuracy: 0.2489\n",
      "Epoch 39/50\n",
      "100/100 [==============================] - 1s 13ms/step - loss: 1.7725 - accuracy: 0.2481\n",
      "Epoch 40/50\n",
      "100/100 [==============================] - 1s 13ms/step - loss: 1.7471 - accuracy: 0.2880\n",
      "Epoch 41/50\n",
      "100/100 [==============================] - 1s 14ms/step - loss: 1.7559 - accuracy: 0.2510\n",
      "Epoch 42/50\n",
      "100/100 [==============================] - 1s 14ms/step - loss: 1.7636 - accuracy: 0.2600\n",
      "Epoch 43/50\n",
      "100/100 [==============================] - 1s 14ms/step - loss: 1.7597 - accuracy: 0.2539\n",
      "Epoch 44/50\n",
      "100/100 [==============================] - 1s 14ms/step - loss: 1.7504 - accuracy: 0.2729\n",
      "Epoch 45/50\n",
      "100/100 [==============================] - 1s 15ms/step - loss: 1.7543 - accuracy: 0.2750\n",
      "Epoch 46/50\n",
      "100/100 [==============================] - 1s 14ms/step - loss: 1.7641 - accuracy: 0.2659\n",
      "Epoch 47/50\n",
      "100/100 [==============================] - 1s 14ms/step - loss: 1.7498 - accuracy: 0.2610\n",
      "Epoch 48/50\n",
      "100/100 [==============================] - 1s 14ms/step - loss: 1.7515 - accuracy: 0.2679\n",
      "Epoch 49/50\n",
      "100/100 [==============================] - 1s 14ms/step - loss: 1.7637 - accuracy: 0.2450\n",
      "Epoch 50/50\n",
      "100/100 [==============================] - 1s 14ms/step - loss: 1.7467 - accuracy: 0.2828\n"
     ]
    }
   ],
   "source": [
    "s = TicToc() # create TicToc instance\n",
    "s.tic() # Start timer\n",
    "with strategy.scope():\n",
    "    model = ResNet50(weights=None,include_top=False, input_shape=(100,100,3))\n",
    "    inputs=model.input\n",
    "    x = model.output\n",
    "    x = Flatten()(x)\n",
    "    x=Dense(units=100,activation='relu')(x)\n",
    "    x=Dropout(0.25)(x)\n",
    "    x=Dense(6, activation='softmax')(x)\n",
    "    resnet_model = tf.keras.Model(inputs=inputs, outputs=x)\n",
    "    resnet_model.compile(loss=tf.keras.losses.categorical_crossentropy,\n",
    "                optimizer=tf.keras.optimizers.Adam(), metrics=['accuracy'], steps_per_execution=50)\n",
    "    resnet_model.fit(x_train,y_train_onehot,batch_size=5,epochs=50, shuffle=True,steps_per_epoch=100)"
   ]
  },
  {
   "cell_type": "code",
   "execution_count": 25,
   "metadata": {},
   "outputs": [
    {
     "name": "stdout",
     "output_type": "stream",
     "text": [
      "Resnet 50 Model compile & training took 475.224874 seconds.\n"
     ]
    }
   ],
   "source": [
    "s.toc('Resnet 50 Model compile & training took')"
   ]
  }
 ],
 "metadata": {
  "accelerator": "GPU",
  "colab": {
   "collapsed_sections": [],
   "name": "second_deliverable_classification_resnet50_tf.ipynb",
   "provenance": []
  },
  "kernelspec": {
   "display_name": "Python 3",
   "language": "python",
   "name": "python3"
  },
  "language_info": {
   "codemirror_mode": {
    "name": "ipython",
    "version": 3
   },
   "file_extension": ".py",
   "mimetype": "text/x-python",
   "name": "python",
   "nbconvert_exporter": "python",
   "pygments_lexer": "ipython3",
   "version": "3.6.9"
  }
 },
 "nbformat": 4,
 "nbformat_minor": 1
}
